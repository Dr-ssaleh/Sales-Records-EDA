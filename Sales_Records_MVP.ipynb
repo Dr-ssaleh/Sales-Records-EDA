{
 "cells": [
  {
   "cell_type": "code",
   "execution_count": 220,
   "id": "d256d8e4",
   "metadata": {},
   "outputs": [],
   "source": [
    "import pandas as pd\n",
    "import numpy as np\n",
    "import seaborn as sns\n",
    "import matplotlib as plt \n",
    "import math \n",
    "from scipy import stats\n",
    "import random\n",
    "%matplotlib inline"
   ]
  },
  {
   "cell_type": "code",
   "execution_count": 221,
   "id": "98cb0f33",
   "metadata": {},
   "outputs": [],
   "source": [
    "df=pd.read_csv(\"Sales Records.csv\")"
   ]
  },
  {
   "cell_type": "code",
   "execution_count": 222,
   "id": "2caf30ca",
   "metadata": {},
   "outputs": [
    {
     "data": {
      "text/html": [
       "<div>\n",
       "<style scoped>\n",
       "    .dataframe tbody tr th:only-of-type {\n",
       "        vertical-align: middle;\n",
       "    }\n",
       "\n",
       "    .dataframe tbody tr th {\n",
       "        vertical-align: top;\n",
       "    }\n",
       "\n",
       "    .dataframe thead th {\n",
       "        text-align: right;\n",
       "    }\n",
       "</style>\n",
       "<table border=\"1\" class=\"dataframe\">\n",
       "  <thead>\n",
       "    <tr style=\"text-align: right;\">\n",
       "      <th></th>\n",
       "      <th>Region</th>\n",
       "      <th>Country</th>\n",
       "      <th>Item Type</th>\n",
       "      <th>Sales Channel</th>\n",
       "      <th>Order Priority</th>\n",
       "      <th>Order Date</th>\n",
       "      <th>Order ID</th>\n",
       "      <th>Ship Date</th>\n",
       "      <th>Units Sold</th>\n",
       "      <th>Unit Price</th>\n",
       "      <th>Unit Cost</th>\n",
       "      <th>Total Revenue</th>\n",
       "      <th>Total Cost</th>\n",
       "      <th>Total Profit</th>\n",
       "    </tr>\n",
       "  </thead>\n",
       "  <tbody>\n",
       "    <tr>\n",
       "      <th>0</th>\n",
       "      <td>Sub-Saharan Africa</td>\n",
       "      <td>Namibia</td>\n",
       "      <td>Household</td>\n",
       "      <td>Offline</td>\n",
       "      <td>M</td>\n",
       "      <td>8/31/2015</td>\n",
       "      <td>897751939</td>\n",
       "      <td>10/12/2015</td>\n",
       "      <td>3604</td>\n",
       "      <td>668.27</td>\n",
       "      <td>502.54</td>\n",
       "      <td>2408445.08</td>\n",
       "      <td>1811154.16</td>\n",
       "      <td>597290.92</td>\n",
       "    </tr>\n",
       "    <tr>\n",
       "      <th>1</th>\n",
       "      <td>Europe</td>\n",
       "      <td>Iceland</td>\n",
       "      <td>Baby Food</td>\n",
       "      <td>Online</td>\n",
       "      <td>H</td>\n",
       "      <td>11/20/2010</td>\n",
       "      <td>599480426</td>\n",
       "      <td>1/9/2011</td>\n",
       "      <td>8435</td>\n",
       "      <td>255.28</td>\n",
       "      <td>159.42</td>\n",
       "      <td>2153286.80</td>\n",
       "      <td>1344707.70</td>\n",
       "      <td>808579.10</td>\n",
       "    </tr>\n",
       "    <tr>\n",
       "      <th>2</th>\n",
       "      <td>Europe</td>\n",
       "      <td>Russia</td>\n",
       "      <td>Meat</td>\n",
       "      <td>Online</td>\n",
       "      <td>L</td>\n",
       "      <td>6/22/2017</td>\n",
       "      <td>538911855</td>\n",
       "      <td>6/25/2017</td>\n",
       "      <td>4848</td>\n",
       "      <td>421.89</td>\n",
       "      <td>364.69</td>\n",
       "      <td>2045322.72</td>\n",
       "      <td>1768017.12</td>\n",
       "      <td>277305.60</td>\n",
       "    </tr>\n",
       "    <tr>\n",
       "      <th>3</th>\n",
       "      <td>Europe</td>\n",
       "      <td>Moldova</td>\n",
       "      <td>Meat</td>\n",
       "      <td>Online</td>\n",
       "      <td>L</td>\n",
       "      <td>2/28/2012</td>\n",
       "      <td>459845054</td>\n",
       "      <td>3/20/2012</td>\n",
       "      <td>7225</td>\n",
       "      <td>421.89</td>\n",
       "      <td>364.69</td>\n",
       "      <td>3048155.25</td>\n",
       "      <td>2634885.25</td>\n",
       "      <td>413270.00</td>\n",
       "    </tr>\n",
       "    <tr>\n",
       "      <th>4</th>\n",
       "      <td>Europe</td>\n",
       "      <td>Malta</td>\n",
       "      <td>Cereal</td>\n",
       "      <td>Online</td>\n",
       "      <td>M</td>\n",
       "      <td>8/12/2010</td>\n",
       "      <td>626391351</td>\n",
       "      <td>9/13/2010</td>\n",
       "      <td>1975</td>\n",
       "      <td>205.70</td>\n",
       "      <td>117.11</td>\n",
       "      <td>406257.50</td>\n",
       "      <td>231292.25</td>\n",
       "      <td>174965.25</td>\n",
       "    </tr>\n",
       "    <tr>\n",
       "      <th>...</th>\n",
       "      <td>...</td>\n",
       "      <td>...</td>\n",
       "      <td>...</td>\n",
       "      <td>...</td>\n",
       "      <td>...</td>\n",
       "      <td>...</td>\n",
       "      <td>...</td>\n",
       "      <td>...</td>\n",
       "      <td>...</td>\n",
       "      <td>...</td>\n",
       "      <td>...</td>\n",
       "      <td>...</td>\n",
       "      <td>...</td>\n",
       "      <td>...</td>\n",
       "    </tr>\n",
       "    <tr>\n",
       "      <th>49995</th>\n",
       "      <td>Central America and the Caribbean</td>\n",
       "      <td>Dominican Republic</td>\n",
       "      <td>Baby Food</td>\n",
       "      <td>Offline</td>\n",
       "      <td>C</td>\n",
       "      <td>2/12/2015</td>\n",
       "      <td>350891578</td>\n",
       "      <td>3/15/2015</td>\n",
       "      <td>5470</td>\n",
       "      <td>255.28</td>\n",
       "      <td>159.42</td>\n",
       "      <td>1396381.60</td>\n",
       "      <td>872027.40</td>\n",
       "      <td>524354.20</td>\n",
       "    </tr>\n",
       "    <tr>\n",
       "      <th>49996</th>\n",
       "      <td>Central America and the Caribbean</td>\n",
       "      <td>Cuba</td>\n",
       "      <td>Office Supplies</td>\n",
       "      <td>Online</td>\n",
       "      <td>M</td>\n",
       "      <td>3/28/2013</td>\n",
       "      <td>748260629</td>\n",
       "      <td>5/3/2013</td>\n",
       "      <td>5803</td>\n",
       "      <td>651.21</td>\n",
       "      <td>524.96</td>\n",
       "      <td>3778971.63</td>\n",
       "      <td>3046342.88</td>\n",
       "      <td>732628.75</td>\n",
       "    </tr>\n",
       "    <tr>\n",
       "      <th>49997</th>\n",
       "      <td>Asia</td>\n",
       "      <td>Vietnam</td>\n",
       "      <td>Personal Care</td>\n",
       "      <td>Offline</td>\n",
       "      <td>L</td>\n",
       "      <td>11/11/2016</td>\n",
       "      <td>322932231</td>\n",
       "      <td>12/18/2016</td>\n",
       "      <td>1678</td>\n",
       "      <td>81.73</td>\n",
       "      <td>56.67</td>\n",
       "      <td>137142.94</td>\n",
       "      <td>95092.26</td>\n",
       "      <td>42050.68</td>\n",
       "    </tr>\n",
       "    <tr>\n",
       "      <th>49998</th>\n",
       "      <td>Sub-Saharan Africa</td>\n",
       "      <td>Sierra Leone</td>\n",
       "      <td>Clothes</td>\n",
       "      <td>Online</td>\n",
       "      <td>M</td>\n",
       "      <td>8/28/2010</td>\n",
       "      <td>492142713</td>\n",
       "      <td>9/21/2010</td>\n",
       "      <td>4820</td>\n",
       "      <td>109.28</td>\n",
       "      <td>35.84</td>\n",
       "      <td>526729.60</td>\n",
       "      <td>172748.80</td>\n",
       "      <td>353980.80</td>\n",
       "    </tr>\n",
       "    <tr>\n",
       "      <th>49999</th>\n",
       "      <td>Sub-Saharan Africa</td>\n",
       "      <td>Eritrea</td>\n",
       "      <td>Vegetables</td>\n",
       "      <td>Offline</td>\n",
       "      <td>L</td>\n",
       "      <td>6/5/2014</td>\n",
       "      <td>943440902</td>\n",
       "      <td>6/30/2014</td>\n",
       "      <td>3983</td>\n",
       "      <td>154.06</td>\n",
       "      <td>90.93</td>\n",
       "      <td>613620.98</td>\n",
       "      <td>362174.19</td>\n",
       "      <td>251446.79</td>\n",
       "    </tr>\n",
       "  </tbody>\n",
       "</table>\n",
       "<p>50000 rows × 14 columns</p>\n",
       "</div>"
      ],
      "text/plain": [
       "                                  Region             Country        Item Type  \\\n",
       "0                     Sub-Saharan Africa             Namibia        Household   \n",
       "1                                 Europe             Iceland        Baby Food   \n",
       "2                                 Europe              Russia             Meat   \n",
       "3                                 Europe            Moldova              Meat   \n",
       "4                                 Europe               Malta           Cereal   \n",
       "...                                  ...                 ...              ...   \n",
       "49995  Central America and the Caribbean  Dominican Republic        Baby Food   \n",
       "49996  Central America and the Caribbean                Cuba  Office Supplies   \n",
       "49997                               Asia             Vietnam    Personal Care   \n",
       "49998                 Sub-Saharan Africa        Sierra Leone          Clothes   \n",
       "49999                 Sub-Saharan Africa             Eritrea       Vegetables   \n",
       "\n",
       "      Sales Channel Order Priority  Order Date   Order ID   Ship Date  \\\n",
       "0           Offline              M   8/31/2015  897751939  10/12/2015   \n",
       "1            Online              H  11/20/2010  599480426    1/9/2011   \n",
       "2            Online              L   6/22/2017  538911855   6/25/2017   \n",
       "3            Online              L   2/28/2012  459845054   3/20/2012   \n",
       "4            Online              M   8/12/2010  626391351   9/13/2010   \n",
       "...             ...            ...         ...        ...         ...   \n",
       "49995       Offline              C   2/12/2015  350891578   3/15/2015   \n",
       "49996        Online              M   3/28/2013  748260629    5/3/2013   \n",
       "49997       Offline              L  11/11/2016  322932231  12/18/2016   \n",
       "49998        Online              M   8/28/2010  492142713   9/21/2010   \n",
       "49999       Offline              L    6/5/2014  943440902   6/30/2014   \n",
       "\n",
       "       Units Sold  Unit Price  Unit Cost  Total Revenue  Total Cost  \\\n",
       "0            3604      668.27     502.54     2408445.08  1811154.16   \n",
       "1            8435      255.28     159.42     2153286.80  1344707.70   \n",
       "2            4848      421.89     364.69     2045322.72  1768017.12   \n",
       "3            7225      421.89     364.69     3048155.25  2634885.25   \n",
       "4            1975      205.70     117.11      406257.50   231292.25   \n",
       "...           ...         ...        ...            ...         ...   \n",
       "49995        5470      255.28     159.42     1396381.60   872027.40   \n",
       "49996        5803      651.21     524.96     3778971.63  3046342.88   \n",
       "49997        1678       81.73      56.67      137142.94    95092.26   \n",
       "49998        4820      109.28      35.84      526729.60   172748.80   \n",
       "49999        3983      154.06      90.93      613620.98   362174.19   \n",
       "\n",
       "       Total Profit  \n",
       "0         597290.92  \n",
       "1         808579.10  \n",
       "2         277305.60  \n",
       "3         413270.00  \n",
       "4         174965.25  \n",
       "...             ...  \n",
       "49995     524354.20  \n",
       "49996     732628.75  \n",
       "49997      42050.68  \n",
       "49998     353980.80  \n",
       "49999     251446.79  \n",
       "\n",
       "[50000 rows x 14 columns]"
      ]
     },
     "execution_count": 222,
     "metadata": {},
     "output_type": "execute_result"
    }
   ],
   "source": [
    "df"
   ]
  },
  {
   "cell_type": "code",
   "execution_count": 223,
   "id": "92af4a72",
   "metadata": {},
   "outputs": [
    {
     "data": {
      "text/plain": [
       "(50000, 14)"
      ]
     },
     "execution_count": 223,
     "metadata": {},
     "output_type": "execute_result"
    }
   ],
   "source": [
    "df.shape"
   ]
  },
  {
   "cell_type": "code",
   "execution_count": 224,
   "id": "901b36f2",
   "metadata": {},
   "outputs": [
    {
     "name": "stdout",
     "output_type": "stream",
     "text": [
      "<class 'pandas.core.frame.DataFrame'>\n",
      "RangeIndex: 50000 entries, 0 to 49999\n",
      "Data columns (total 14 columns):\n",
      " #   Column          Non-Null Count  Dtype  \n",
      "---  ------          --------------  -----  \n",
      " 0   Region          50000 non-null  object \n",
      " 1   Country         50000 non-null  object \n",
      " 2   Item Type       50000 non-null  object \n",
      " 3   Sales Channel   50000 non-null  object \n",
      " 4   Order Priority  50000 non-null  object \n",
      " 5   Order Date      50000 non-null  object \n",
      " 6   Order ID        50000 non-null  int64  \n",
      " 7   Ship Date       50000 non-null  object \n",
      " 8   Units Sold      50000 non-null  int64  \n",
      " 9   Unit Price      50000 non-null  float64\n",
      " 10  Unit Cost       50000 non-null  float64\n",
      " 11  Total Revenue   50000 non-null  float64\n",
      " 12  Total Cost      50000 non-null  float64\n",
      " 13  Total Profit    50000 non-null  float64\n",
      "dtypes: float64(5), int64(2), object(7)\n",
      "memory usage: 5.3+ MB\n"
     ]
    }
   ],
   "source": [
    "df.info()"
   ]
  },
  {
   "cell_type": "code",
   "execution_count": 225,
   "id": "06bfc770",
   "metadata": {},
   "outputs": [
    {
     "data": {
      "text/plain": [
       "Region             object\n",
       "Country            object\n",
       "Item Type          object\n",
       "Sales Channel      object\n",
       "Order Priority     object\n",
       "Order Date         object\n",
       "Order ID            int64\n",
       "Ship Date          object\n",
       "Units Sold          int64\n",
       "Unit Price        float64\n",
       "Unit Cost         float64\n",
       "Total Revenue     float64\n",
       "Total Cost        float64\n",
       "Total Profit      float64\n",
       "dtype: object"
      ]
     },
     "execution_count": 225,
     "metadata": {},
     "output_type": "execute_result"
    }
   ],
   "source": [
    "df.dtypes"
   ]
  },
  {
   "cell_type": "code",
   "execution_count": 226,
   "id": "3b87ad4d",
   "metadata": {},
   "outputs": [
    {
     "data": {
      "text/plain": [
       "<bound method NDFrame.describe of                                   Region             Country        Item Type  \\\n",
       "0                     Sub-Saharan Africa             Namibia        Household   \n",
       "1                                 Europe             Iceland        Baby Food   \n",
       "2                                 Europe              Russia             Meat   \n",
       "3                                 Europe            Moldova              Meat   \n",
       "4                                 Europe               Malta           Cereal   \n",
       "...                                  ...                 ...              ...   \n",
       "49995  Central America and the Caribbean  Dominican Republic        Baby Food   \n",
       "49996  Central America and the Caribbean                Cuba  Office Supplies   \n",
       "49997                               Asia             Vietnam    Personal Care   \n",
       "49998                 Sub-Saharan Africa        Sierra Leone          Clothes   \n",
       "49999                 Sub-Saharan Africa             Eritrea       Vegetables   \n",
       "\n",
       "      Sales Channel Order Priority  Order Date   Order ID   Ship Date  \\\n",
       "0           Offline              M   8/31/2015  897751939  10/12/2015   \n",
       "1            Online              H  11/20/2010  599480426    1/9/2011   \n",
       "2            Online              L   6/22/2017  538911855   6/25/2017   \n",
       "3            Online              L   2/28/2012  459845054   3/20/2012   \n",
       "4            Online              M   8/12/2010  626391351   9/13/2010   \n",
       "...             ...            ...         ...        ...         ...   \n",
       "49995       Offline              C   2/12/2015  350891578   3/15/2015   \n",
       "49996        Online              M   3/28/2013  748260629    5/3/2013   \n",
       "49997       Offline              L  11/11/2016  322932231  12/18/2016   \n",
       "49998        Online              M   8/28/2010  492142713   9/21/2010   \n",
       "49999       Offline              L    6/5/2014  943440902   6/30/2014   \n",
       "\n",
       "       Units Sold  Unit Price  Unit Cost  Total Revenue  Total Cost  \\\n",
       "0            3604      668.27     502.54     2408445.08  1811154.16   \n",
       "1            8435      255.28     159.42     2153286.80  1344707.70   \n",
       "2            4848      421.89     364.69     2045322.72  1768017.12   \n",
       "3            7225      421.89     364.69     3048155.25  2634885.25   \n",
       "4            1975      205.70     117.11      406257.50   231292.25   \n",
       "...           ...         ...        ...            ...         ...   \n",
       "49995        5470      255.28     159.42     1396381.60   872027.40   \n",
       "49996        5803      651.21     524.96     3778971.63  3046342.88   \n",
       "49997        1678       81.73      56.67      137142.94    95092.26   \n",
       "49998        4820      109.28      35.84      526729.60   172748.80   \n",
       "49999        3983      154.06      90.93      613620.98   362174.19   \n",
       "\n",
       "       Total Profit  \n",
       "0         597290.92  \n",
       "1         808579.10  \n",
       "2         277305.60  \n",
       "3         413270.00  \n",
       "4         174965.25  \n",
       "...             ...  \n",
       "49995     524354.20  \n",
       "49996     732628.75  \n",
       "49997      42050.68  \n",
       "49998     353980.80  \n",
       "49999     251446.79  \n",
       "\n",
       "[50000 rows x 14 columns]>"
      ]
     },
     "execution_count": 226,
     "metadata": {},
     "output_type": "execute_result"
    }
   ],
   "source": [
    "df.describe"
   ]
  },
  {
   "cell_type": "code",
   "execution_count": 227,
   "id": "1adc8ba5",
   "metadata": {},
   "outputs": [
    {
     "data": {
      "text/plain": [
       "Region            0\n",
       "Country           0\n",
       "Item Type         0\n",
       "Sales Channel     0\n",
       "Order Priority    0\n",
       "Order Date        0\n",
       "Order ID          0\n",
       "Ship Date         0\n",
       "Units Sold        0\n",
       "Unit Price        0\n",
       "Unit Cost         0\n",
       "Total Revenue     0\n",
       "Total Cost        0\n",
       "Total Profit      0\n",
       "dtype: int64"
      ]
     },
     "execution_count": 227,
     "metadata": {},
     "output_type": "execute_result"
    }
   ],
   "source": [
    "df.isna().sum()"
   ]
  },
  {
   "cell_type": "code",
   "execution_count": 228,
   "id": "4f856bd2",
   "metadata": {},
   "outputs": [
    {
     "data": {
      "text/plain": [
       "Index(['Region', 'Country', 'Item Type', 'Sales Channel', 'Order Priority',\n",
       "       'Order Date', 'Order ID', 'Ship Date', 'Units Sold', 'Unit Price',\n",
       "       'Unit Cost', 'Total Revenue', 'Total Cost', 'Total Profit'],\n",
       "      dtype='object')"
      ]
     },
     "execution_count": 228,
     "metadata": {},
     "output_type": "execute_result"
    }
   ],
   "source": [
    "df.columns"
   ]
  },
  {
   "cell_type": "code",
   "execution_count": 229,
   "id": "641b126f",
   "metadata": {},
   "outputs": [
    {
     "data": {
      "text/plain": [
       "Region             object\n",
       "Country            object\n",
       "Item Type          object\n",
       "Sales Channel      object\n",
       "Order Priority     object\n",
       "Order Date         object\n",
       "Order ID            int64\n",
       "Ship Date          object\n",
       "Units Sold          int64\n",
       "Unit Price        float64\n",
       "Unit Cost         float64\n",
       "Total Revenue     float64\n",
       "Total Cost        float64\n",
       "Total Profit      float64\n",
       "dtype: object"
      ]
     },
     "execution_count": 229,
     "metadata": {},
     "output_type": "execute_result"
    }
   ],
   "source": [
    "df.dtypes"
   ]
  },
  {
   "cell_type": "code",
   "execution_count": 230,
   "id": "59d34071",
   "metadata": {},
   "outputs": [],
   "source": [
    "df = df.drop('Order Priority', axis=1)"
   ]
  },
  {
   "cell_type": "code",
   "execution_count": 231,
   "id": "1690ed95",
   "metadata": {},
   "outputs": [
    {
     "data": {
      "text/html": [
       "<div>\n",
       "<style scoped>\n",
       "    .dataframe tbody tr th:only-of-type {\n",
       "        vertical-align: middle;\n",
       "    }\n",
       "\n",
       "    .dataframe tbody tr th {\n",
       "        vertical-align: top;\n",
       "    }\n",
       "\n",
       "    .dataframe thead th {\n",
       "        text-align: right;\n",
       "    }\n",
       "</style>\n",
       "<table border=\"1\" class=\"dataframe\">\n",
       "  <thead>\n",
       "    <tr style=\"text-align: right;\">\n",
       "      <th></th>\n",
       "      <th>Region</th>\n",
       "      <th>Country</th>\n",
       "      <th>Item Type</th>\n",
       "      <th>Sales Channel</th>\n",
       "      <th>Order Date</th>\n",
       "      <th>Order ID</th>\n",
       "      <th>Ship Date</th>\n",
       "      <th>Units Sold</th>\n",
       "      <th>Unit Price</th>\n",
       "      <th>Unit Cost</th>\n",
       "      <th>Total Revenue</th>\n",
       "      <th>Total Cost</th>\n",
       "      <th>Total Profit</th>\n",
       "    </tr>\n",
       "  </thead>\n",
       "  <tbody>\n",
       "    <tr>\n",
       "      <th>0</th>\n",
       "      <td>Sub-Saharan Africa</td>\n",
       "      <td>Namibia</td>\n",
       "      <td>Household</td>\n",
       "      <td>Offline</td>\n",
       "      <td>8/31/2015</td>\n",
       "      <td>897751939</td>\n",
       "      <td>10/12/2015</td>\n",
       "      <td>3604</td>\n",
       "      <td>668.27</td>\n",
       "      <td>502.54</td>\n",
       "      <td>2408445.08</td>\n",
       "      <td>1811154.16</td>\n",
       "      <td>597290.92</td>\n",
       "    </tr>\n",
       "    <tr>\n",
       "      <th>1</th>\n",
       "      <td>Europe</td>\n",
       "      <td>Iceland</td>\n",
       "      <td>Baby Food</td>\n",
       "      <td>Online</td>\n",
       "      <td>11/20/2010</td>\n",
       "      <td>599480426</td>\n",
       "      <td>1/9/2011</td>\n",
       "      <td>8435</td>\n",
       "      <td>255.28</td>\n",
       "      <td>159.42</td>\n",
       "      <td>2153286.80</td>\n",
       "      <td>1344707.70</td>\n",
       "      <td>808579.10</td>\n",
       "    </tr>\n",
       "    <tr>\n",
       "      <th>2</th>\n",
       "      <td>Europe</td>\n",
       "      <td>Russia</td>\n",
       "      <td>Meat</td>\n",
       "      <td>Online</td>\n",
       "      <td>6/22/2017</td>\n",
       "      <td>538911855</td>\n",
       "      <td>6/25/2017</td>\n",
       "      <td>4848</td>\n",
       "      <td>421.89</td>\n",
       "      <td>364.69</td>\n",
       "      <td>2045322.72</td>\n",
       "      <td>1768017.12</td>\n",
       "      <td>277305.60</td>\n",
       "    </tr>\n",
       "    <tr>\n",
       "      <th>3</th>\n",
       "      <td>Europe</td>\n",
       "      <td>Moldova</td>\n",
       "      <td>Meat</td>\n",
       "      <td>Online</td>\n",
       "      <td>2/28/2012</td>\n",
       "      <td>459845054</td>\n",
       "      <td>3/20/2012</td>\n",
       "      <td>7225</td>\n",
       "      <td>421.89</td>\n",
       "      <td>364.69</td>\n",
       "      <td>3048155.25</td>\n",
       "      <td>2634885.25</td>\n",
       "      <td>413270.00</td>\n",
       "    </tr>\n",
       "    <tr>\n",
       "      <th>4</th>\n",
       "      <td>Europe</td>\n",
       "      <td>Malta</td>\n",
       "      <td>Cereal</td>\n",
       "      <td>Online</td>\n",
       "      <td>8/12/2010</td>\n",
       "      <td>626391351</td>\n",
       "      <td>9/13/2010</td>\n",
       "      <td>1975</td>\n",
       "      <td>205.70</td>\n",
       "      <td>117.11</td>\n",
       "      <td>406257.50</td>\n",
       "      <td>231292.25</td>\n",
       "      <td>174965.25</td>\n",
       "    </tr>\n",
       "    <tr>\n",
       "      <th>...</th>\n",
       "      <td>...</td>\n",
       "      <td>...</td>\n",
       "      <td>...</td>\n",
       "      <td>...</td>\n",
       "      <td>...</td>\n",
       "      <td>...</td>\n",
       "      <td>...</td>\n",
       "      <td>...</td>\n",
       "      <td>...</td>\n",
       "      <td>...</td>\n",
       "      <td>...</td>\n",
       "      <td>...</td>\n",
       "      <td>...</td>\n",
       "    </tr>\n",
       "    <tr>\n",
       "      <th>49995</th>\n",
       "      <td>Central America and the Caribbean</td>\n",
       "      <td>Dominican Republic</td>\n",
       "      <td>Baby Food</td>\n",
       "      <td>Offline</td>\n",
       "      <td>2/12/2015</td>\n",
       "      <td>350891578</td>\n",
       "      <td>3/15/2015</td>\n",
       "      <td>5470</td>\n",
       "      <td>255.28</td>\n",
       "      <td>159.42</td>\n",
       "      <td>1396381.60</td>\n",
       "      <td>872027.40</td>\n",
       "      <td>524354.20</td>\n",
       "    </tr>\n",
       "    <tr>\n",
       "      <th>49996</th>\n",
       "      <td>Central America and the Caribbean</td>\n",
       "      <td>Cuba</td>\n",
       "      <td>Office Supplies</td>\n",
       "      <td>Online</td>\n",
       "      <td>3/28/2013</td>\n",
       "      <td>748260629</td>\n",
       "      <td>5/3/2013</td>\n",
       "      <td>5803</td>\n",
       "      <td>651.21</td>\n",
       "      <td>524.96</td>\n",
       "      <td>3778971.63</td>\n",
       "      <td>3046342.88</td>\n",
       "      <td>732628.75</td>\n",
       "    </tr>\n",
       "    <tr>\n",
       "      <th>49997</th>\n",
       "      <td>Asia</td>\n",
       "      <td>Vietnam</td>\n",
       "      <td>Personal Care</td>\n",
       "      <td>Offline</td>\n",
       "      <td>11/11/2016</td>\n",
       "      <td>322932231</td>\n",
       "      <td>12/18/2016</td>\n",
       "      <td>1678</td>\n",
       "      <td>81.73</td>\n",
       "      <td>56.67</td>\n",
       "      <td>137142.94</td>\n",
       "      <td>95092.26</td>\n",
       "      <td>42050.68</td>\n",
       "    </tr>\n",
       "    <tr>\n",
       "      <th>49998</th>\n",
       "      <td>Sub-Saharan Africa</td>\n",
       "      <td>Sierra Leone</td>\n",
       "      <td>Clothes</td>\n",
       "      <td>Online</td>\n",
       "      <td>8/28/2010</td>\n",
       "      <td>492142713</td>\n",
       "      <td>9/21/2010</td>\n",
       "      <td>4820</td>\n",
       "      <td>109.28</td>\n",
       "      <td>35.84</td>\n",
       "      <td>526729.60</td>\n",
       "      <td>172748.80</td>\n",
       "      <td>353980.80</td>\n",
       "    </tr>\n",
       "    <tr>\n",
       "      <th>49999</th>\n",
       "      <td>Sub-Saharan Africa</td>\n",
       "      <td>Eritrea</td>\n",
       "      <td>Vegetables</td>\n",
       "      <td>Offline</td>\n",
       "      <td>6/5/2014</td>\n",
       "      <td>943440902</td>\n",
       "      <td>6/30/2014</td>\n",
       "      <td>3983</td>\n",
       "      <td>154.06</td>\n",
       "      <td>90.93</td>\n",
       "      <td>613620.98</td>\n",
       "      <td>362174.19</td>\n",
       "      <td>251446.79</td>\n",
       "    </tr>\n",
       "  </tbody>\n",
       "</table>\n",
       "<p>50000 rows × 13 columns</p>\n",
       "</div>"
      ],
      "text/plain": [
       "                                  Region             Country        Item Type  \\\n",
       "0                     Sub-Saharan Africa             Namibia        Household   \n",
       "1                                 Europe             Iceland        Baby Food   \n",
       "2                                 Europe              Russia             Meat   \n",
       "3                                 Europe            Moldova              Meat   \n",
       "4                                 Europe               Malta           Cereal   \n",
       "...                                  ...                 ...              ...   \n",
       "49995  Central America and the Caribbean  Dominican Republic        Baby Food   \n",
       "49996  Central America and the Caribbean                Cuba  Office Supplies   \n",
       "49997                               Asia             Vietnam    Personal Care   \n",
       "49998                 Sub-Saharan Africa        Sierra Leone          Clothes   \n",
       "49999                 Sub-Saharan Africa             Eritrea       Vegetables   \n",
       "\n",
       "      Sales Channel  Order Date   Order ID   Ship Date  Units Sold  \\\n",
       "0           Offline   8/31/2015  897751939  10/12/2015        3604   \n",
       "1            Online  11/20/2010  599480426    1/9/2011        8435   \n",
       "2            Online   6/22/2017  538911855   6/25/2017        4848   \n",
       "3            Online   2/28/2012  459845054   3/20/2012        7225   \n",
       "4            Online   8/12/2010  626391351   9/13/2010        1975   \n",
       "...             ...         ...        ...         ...         ...   \n",
       "49995       Offline   2/12/2015  350891578   3/15/2015        5470   \n",
       "49996        Online   3/28/2013  748260629    5/3/2013        5803   \n",
       "49997       Offline  11/11/2016  322932231  12/18/2016        1678   \n",
       "49998        Online   8/28/2010  492142713   9/21/2010        4820   \n",
       "49999       Offline    6/5/2014  943440902   6/30/2014        3983   \n",
       "\n",
       "       Unit Price  Unit Cost  Total Revenue  Total Cost  Total Profit  \n",
       "0          668.27     502.54     2408445.08  1811154.16     597290.92  \n",
       "1          255.28     159.42     2153286.80  1344707.70     808579.10  \n",
       "2          421.89     364.69     2045322.72  1768017.12     277305.60  \n",
       "3          421.89     364.69     3048155.25  2634885.25     413270.00  \n",
       "4          205.70     117.11      406257.50   231292.25     174965.25  \n",
       "...           ...        ...            ...         ...           ...  \n",
       "49995      255.28     159.42     1396381.60   872027.40     524354.20  \n",
       "49996      651.21     524.96     3778971.63  3046342.88     732628.75  \n",
       "49997       81.73      56.67      137142.94    95092.26      42050.68  \n",
       "49998      109.28      35.84      526729.60   172748.80     353980.80  \n",
       "49999      154.06      90.93      613620.98   362174.19     251446.79  \n",
       "\n",
       "[50000 rows x 13 columns]"
      ]
     },
     "execution_count": 231,
     "metadata": {},
     "output_type": "execute_result"
    }
   ],
   "source": [
    "df"
   ]
  },
  {
   "cell_type": "code",
   "execution_count": 232,
   "id": "ee30bbdf",
   "metadata": {},
   "outputs": [],
   "source": [
    "Profit = df['Total Profit']"
   ]
  },
  {
   "cell_type": "code",
   "execution_count": 233,
   "id": "25a81d09",
   "metadata": {},
   "outputs": [
    {
     "data": {
      "text/plain": [
       "1738178.39"
      ]
     },
     "execution_count": 233,
     "metadata": {},
     "output_type": "execute_result"
    }
   ],
   "source": [
    "Profit.max()"
   ]
  },
  {
   "cell_type": "code",
   "execution_count": 234,
   "id": "967c71c9",
   "metadata": {},
   "outputs": [
    {
     "data": {
      "text/plain": [
       "0        597290.92\n",
       "1        808579.10\n",
       "2        277305.60\n",
       "3        413270.00\n",
       "4        174965.25\n",
       "           ...    \n",
       "49995    524354.20\n",
       "49996    732628.75\n",
       "49997     42050.68\n",
       "49998    353980.80\n",
       "49999    251446.79\n",
       "Name: Total Profit, Length: 50000, dtype: float64"
      ]
     },
     "execution_count": 234,
     "metadata": {},
     "output_type": "execute_result"
    }
   ],
   "source": [
    "Profit"
   ]
  },
  {
   "cell_type": "code",
   "execution_count": 235,
   "id": "974b3fc6",
   "metadata": {},
   "outputs": [
    {
     "data": {
      "text/plain": [
       "11707"
      ]
     },
     "execution_count": 235,
     "metadata": {},
     "output_type": "execute_result"
    }
   ],
   "source": [
    "Profit.idxmax(axis=0)"
   ]
  },
  {
   "cell_type": "code",
   "execution_count": 236,
   "id": "b9cfc24e",
   "metadata": {},
   "outputs": [
    {
     "data": {
      "text/plain": [
       "1738178.39"
      ]
     },
     "execution_count": 236,
     "metadata": {},
     "output_type": "execute_result"
    }
   ],
   "source": [
    "Profit[11707]"
   ]
  },
  {
   "cell_type": "code",
   "execution_count": 237,
   "id": "74ed2dcf",
   "metadata": {
    "scrolled": true
   },
   "outputs": [
    {
     "data": {
      "text/plain": [
       "'Cosmetics'"
      ]
     },
     "execution_count": 237,
     "metadata": {},
     "output_type": "execute_result"
    }
   ],
   "source": [
    "df['Item Type'].iloc[11707]"
   ]
  },
  {
   "cell_type": "code",
   "execution_count": 245,
   "id": "3f6f99f1",
   "metadata": {},
   "outputs": [
    {
     "data": {
      "text/plain": [
       "2632510.01"
      ]
     },
     "execution_count": 245,
     "metadata": {},
     "output_type": "execute_result"
    }
   ],
   "source": [
    "df['Total Cost'].iloc[11707]"
   ]
  },
  {
   "cell_type": "code",
   "execution_count": null,
   "id": "77d63e07",
   "metadata": {},
   "outputs": [],
   "source": []
  },
  {
   "cell_type": "code",
   "execution_count": 238,
   "id": "1d7b73de",
   "metadata": {},
   "outputs": [
    {
     "data": {
      "text/plain": [
       "'Cosmetics'"
      ]
     },
     "execution_count": 238,
     "metadata": {},
     "output_type": "execute_result"
    }
   ],
   "source": [
    "max_index = Profit.idxmax(axis=0)\n",
    "df['Item Type'].iloc[max_index]"
   ]
  },
  {
   "cell_type": "code",
   "execution_count": 239,
   "id": "9f0d9b45",
   "metadata": {},
   "outputs": [
    {
     "data": {
      "text/plain": [
       "11707    1738178.39\n",
       "1330     1737482.91\n",
       "7964     1736961.30\n",
       "8800     1736439.69\n",
       "1931     1735222.60\n",
       "43359    1735222.60\n",
       "46552    1735048.73\n",
       "15369    1734700.99\n",
       "30645    1734005.51\n",
       "13454    1733483.90\n",
       "Name: Total Profit, dtype: float64"
      ]
     },
     "execution_count": 239,
     "metadata": {},
     "output_type": "execute_result"
    }
   ],
   "source": [
    "Profit.nlargest(10)"
   ]
  },
  {
   "cell_type": "code",
   "execution_count": 240,
   "id": "c1c4b8ba",
   "metadata": {},
   "outputs": [
    {
     "data": {
      "text/plain": [
       "11707    1738178.39\n",
       "1330     1737482.91\n",
       "7964     1736961.30\n",
       "8800     1736439.69\n",
       "1931     1735222.60\n",
       "Name: Total Profit, dtype: float64"
      ]
     },
     "execution_count": 240,
     "metadata": {},
     "output_type": "execute_result"
    }
   ],
   "source": [
    "#Bar Chart of the top 5/10\n",
    "top_5_P = Profit.nlargest(5)\n",
    "top_5_P"
   ]
  },
  {
   "cell_type": "code",
   "execution_count": 241,
   "id": "64d460e4",
   "metadata": {},
   "outputs": [
    {
     "data": {
      "text/plain": [
       "'Cosmetics'"
      ]
     },
     "execution_count": 241,
     "metadata": {},
     "output_type": "execute_result"
    }
   ],
   "source": [
    "df['Item Type'].iloc[11707]"
   ]
  },
  {
   "cell_type": "code",
   "execution_count": 242,
   "id": "8d270b3b",
   "metadata": {},
   "outputs": [
    {
     "data": {
      "text/plain": [
       "7.23"
      ]
     },
     "execution_count": 242,
     "metadata": {},
     "output_type": "execute_result"
    }
   ],
   "source": [
    "Profit.min()"
   ]
  },
  {
   "cell_type": "code",
   "execution_count": 243,
   "id": "bfe26728",
   "metadata": {},
   "outputs": [],
   "source": [
    "cost = df['Total Cost']"
   ]
  },
  {
   "cell_type": "code",
   "execution_count": 244,
   "id": "23097d74",
   "metadata": {},
   "outputs": [
    {
     "data": {
      "text/plain": [
       "5249075.04"
      ]
     },
     "execution_count": 244,
     "metadata": {},
     "output_type": "execute_result"
    }
   ],
   "source": [
    "cost.max()"
   ]
  },
  {
   "cell_type": "code",
   "execution_count": 195,
   "id": "7c61fe97",
   "metadata": {},
   "outputs": [
    {
     "data": {
      "text/plain": [
       "10365    5249075.04\n",
       "17880    5248550.08\n",
       "36295    5246975.20\n",
       "9314     5246450.24\n",
       "36593    5243300.48\n",
       "32037    5242250.56\n",
       "19945    5240675.68\n",
       "40129    5234376.16\n",
       "28119    5233326.24\n",
       "8833     5231751.36\n",
       "Name: Total Cost, dtype: float64"
      ]
     },
     "execution_count": 195,
     "metadata": {},
     "output_type": "execute_result"
    }
   ],
   "source": [
    "cost.nlargest(10)"
   ]
  },
  {
   "cell_type": "code",
   "execution_count": 206,
   "id": "f11efeab",
   "metadata": {},
   "outputs": [
    {
     "data": {
      "text/plain": [
       "10365    5249075.04\n",
       "17880    5248550.08\n",
       "36295    5246975.20\n",
       "9314     5246450.24\n",
       "36593    5243300.48\n",
       "Name: Total Cost, dtype: float64"
      ]
     },
     "execution_count": 206,
     "metadata": {},
     "output_type": "execute_result"
    }
   ],
   "source": [
    "top_5_cost = cost.nlargest(5)\n",
    "top_5_cost"
   ]
  },
  {
   "cell_type": "code",
   "execution_count": 196,
   "id": "ced25bd9",
   "metadata": {},
   "outputs": [
    {
     "data": {
      "text/plain": [
       "'Office Supplies'"
      ]
     },
     "execution_count": 196,
     "metadata": {},
     "output_type": "execute_result"
    }
   ],
   "source": [
    "max_index = cost.idxmax(axis=0)\n",
    "df['Item Type'].iloc[max_index]"
   ]
  },
  {
   "cell_type": "code",
   "execution_count": 197,
   "id": "5ef161ed",
   "metadata": {},
   "outputs": [
    {
     "data": {
      "text/plain": [
       "'Office Supplies'"
      ]
     },
     "execution_count": 197,
     "metadata": {},
     "output_type": "execute_result"
    }
   ],
   "source": [
    "df['Item Type'].iloc[10365]"
   ]
  },
  {
   "cell_type": "code",
   "execution_count": 201,
   "id": "cd90f3c3",
   "metadata": {},
   "outputs": [
    {
     "data": {
      "text/plain": [
       "1262373.75"
      ]
     },
     "execution_count": 201,
     "metadata": {},
     "output_type": "execute_result"
    }
   ],
   "source": [
    "#top 1\n",
    "df['Total Profit'].iloc[10365]"
   ]
  },
  {
   "cell_type": "code",
   "execution_count": 202,
   "id": "ed636d02",
   "metadata": {},
   "outputs": [
    {
     "data": {
      "text/plain": [
       "1262247.5"
      ]
     },
     "execution_count": 202,
     "metadata": {},
     "output_type": "execute_result"
    }
   ],
   "source": [
    "#top 2\n",
    "df['Total Profit'].iloc[17880]"
   ]
  },
  {
   "cell_type": "code",
   "execution_count": 203,
   "id": "7593c966",
   "metadata": {},
   "outputs": [
    {
     "data": {
      "text/plain": [
       "1261868.75"
      ]
     },
     "execution_count": 203,
     "metadata": {},
     "output_type": "execute_result"
    }
   ],
   "source": [
    "#top 3\n",
    "df['Total Profit'].iloc[36295]"
   ]
  },
  {
   "cell_type": "code",
   "execution_count": 204,
   "id": "bdf7772c",
   "metadata": {},
   "outputs": [
    {
     "data": {
      "text/plain": [
       "1261742.5"
      ]
     },
     "execution_count": 204,
     "metadata": {},
     "output_type": "execute_result"
    }
   ],
   "source": [
    "#top 4\n",
    "df['Total Profit'].iloc[9314]"
   ]
  },
  {
   "cell_type": "code",
   "execution_count": 205,
   "id": "e8c85fdb",
   "metadata": {},
   "outputs": [
    {
     "data": {
      "text/plain": [
       "1260985.0"
      ]
     },
     "execution_count": 205,
     "metadata": {},
     "output_type": "execute_result"
    }
   ],
   "source": [
    "#top 5\n",
    "df['Total Profit'].iloc[36593]"
   ]
  },
  {
   "cell_type": "code",
   "execution_count": 249,
   "id": "09895eef",
   "metadata": {},
   "outputs": [
    {
     "data": {
      "image/png": "[encoded data removed]",
      "text/plain": [
       "<Figure size 432x288 with 1 Axes>"
      ]
     },
     "metadata": {
      "needs_background": "light"
     },
     "output_type": "display_data"
    }
   ],
   "source": [
    "df = pd.DataFrame({'Item Type':['Cosmetics cost', 'Cosmetics Profit', 'Office_S cost', 'Office_S Profit'], 'val':[2632510.01, 1738178.39, 5249075.04, 1262373.75]})\n",
    ">>> ax = df.plot.bar(x='Item Type', y='val', rot=0)"
   ]
  },
  {
   "cell_type": "code",
   "execution_count": null,
   "id": "fecf0c56",
   "metadata": {},
   "outputs": [],
   "source": []
  }
 ],
 "metadata": {
  "kernelspec": {
   "display_name": "Python 3",
   "language": "python",
   "name": "python3"
  },
  "language_info": {
   "codemirror_mode": {
    "name": "ipython",
    "version": 3
   },
   "file_extension": ".py",
   "mimetype": "text/x-python",
   "name": "python",
   "nbconvert_exporter": "python",
   "pygments_lexer": "ipython3",
   "version": "3.8.8"
  }
 },
 "nbformat": 4,
 "nbformat_minor": 5
}
